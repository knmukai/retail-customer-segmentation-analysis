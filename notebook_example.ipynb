{
 "cells": [
  {
   "cell_type": "code",
   "execution_count": 1,
   "metadata": {},
   "outputs": [
    {
     "name": "stdout",
     "output_type": "stream",
     "text": [
      "/home/sayuriiwai/anaconda3/lib/python3.7/site-packages/secretstorage/dhcrypto.py:16: CryptographyDeprecationWarning: int_from_bytes is deprecated, use int.from_bytes instead\n",
      "  from cryptography.utils import int_from_bytes\n",
      "/home/sayuriiwai/anaconda3/lib/python3.7/site-packages/secretstorage/util.py:25: CryptographyDeprecationWarning: int_from_bytes is deprecated, use int.from_bytes instead\n",
      "  from cryptography.utils import int_from_bytes\n",
      "/home/sayuriiwai/anaconda3/lib/python3.7/site-packages/cryptography/hazmat/backends/openssl/x509.py:18: CryptographyDeprecationWarning: This version of cryptography contains a temporary pyOpenSSL fallback path. Upgrade pyOpenSSL now.\n",
      "  utils.DeprecatedIn35,\n",
      "Collecting yellowbrick\n",
      "  Using cached yellowbrick-1.5-py3-none-any.whl (282 kB)\n",
      "Requirement already satisfied: cycler>=0.10.0 in /home/sayuriiwai/anaconda3/lib/python3.7/site-packages (from yellowbrick) (0.10.0)\n",
      "Requirement already satisfied: numpy>=1.16.0 in /home/sayuriiwai/anaconda3/lib/python3.7/site-packages (from yellowbrick) (1.17.0)\n",
      "Requirement already satisfied: matplotlib!=3.0.0,>=2.0.2 in /home/sayuriiwai/anaconda3/lib/python3.7/site-packages (from yellowbrick) (3.1.3)\n",
      "Collecting scikit-learn>=1.0.0\n",
      "  Using cached scikit_learn-1.0.2-cp37-cp37m-manylinux_2_17_x86_64.manylinux2014_x86_64.whl (24.8 MB)\n",
      "Requirement already satisfied: scipy>=1.0.0 in /home/sayuriiwai/anaconda3/lib/python3.7/site-packages (from yellowbrick) (1.4.1)\n",
      "Requirement already satisfied: six in /home/sayuriiwai/anaconda3/lib/python3.7/site-packages (from cycler>=0.10.0->yellowbrick) (1.12.0)\n",
      "Requirement already satisfied: kiwisolver>=1.0.1 in /home/sayuriiwai/anaconda3/lib/python3.7/site-packages (from matplotlib!=3.0.0,>=2.0.2->yellowbrick) (1.1.0)\n",
      "Requirement already satisfied: pyparsing!=2.0.4,!=2.1.2,!=2.1.6,>=2.0.1 in /home/sayuriiwai/anaconda3/lib/python3.7/site-packages (from matplotlib!=3.0.0,>=2.0.2->yellowbrick) (2.4.6)\n",
      "Requirement already satisfied: python-dateutil>=2.1 in /home/sayuriiwai/anaconda3/lib/python3.7/site-packages (from matplotlib!=3.0.0,>=2.0.2->yellowbrick) (2.8.0)\n",
      "Collecting threadpoolctl>=2.0.0\n",
      "  Using cached threadpoolctl-3.1.0-py3-none-any.whl (14 kB)\n",
      "Requirement already satisfied: joblib>=0.11 in /home/sayuriiwai/anaconda3/lib/python3.7/site-packages (from scikit-learn>=1.0.0->yellowbrick) (0.14.1)\n",
      "Requirement already satisfied: setuptools in /home/sayuriiwai/anaconda3/lib/python3.7/site-packages (from kiwisolver>=1.0.1->matplotlib!=3.0.0,>=2.0.2->yellowbrick) (45.2.0.post20200210)\n",
      "Installing collected packages: threadpoolctl, scikit-learn, yellowbrick\n",
      "  Attempting uninstall: scikit-learn\n",
      "    Found existing installation: scikit-learn 0.22.1\n",
      "    Uninstalling scikit-learn-0.22.1:\n",
      "      Successfully uninstalled scikit-learn-0.22.1\n",
      "Successfully installed scikit-learn-1.0.2 threadpoolctl-3.1.0 yellowbrick-1.5\n"
     ]
    }
   ],
   "source": [
    "!pip install yellowbrick"
   ]
  },
  {
   "cell_type": "code",
   "execution_count": 2,
   "metadata": {},
   "outputs": [],
   "source": [
    "# import libraries\n",
    "import pandas as pd\n",
    "import seaborn as sns\n",
    "import matplotlib.pyplot as plt\n",
    "import numpy as np\n",
    "from sklearn.preprocessing import LabelEncoder, MinMaxScaler\n",
    "from sklearn.cluster import KMeans\n",
    "from yellowbrick.cluster import KElbowVisualizer, SilhouetteVisualizer\n",
    "from sklearn.metrics import silhouette_score"
   ]
  },
  {
   "cell_type": "code",
   "execution_count": 4,
   "metadata": {},
   "outputs": [],
   "source": [
    "# Define functions \n",
    "# pelas boas praticas, comecamos os scripts definindo as funcoes utilizadas\n",
    "\n",
    "def load_data(path):\n",
    "    '''\n",
    "    Pelas boas praticas tambem eh comum usar esse tipo de comentario para explicar o objetivo da\n",
    "    funcao\n",
    "    Mas pelas boas praticas tambem existe um balanco entre comentarios demais e comentarios de menos\n",
    "    entao funcoes obvias demais talvez dispensem esse tipo de documentacao\n",
    "    '''\n",
    "    \n",
    "    df = pd.read_csv(path, sep = ';')\n",
    "    print('Data loaded successfully')\n",
    "    # as vezes pode ser util printar mensagens para log. Tambem eh possivel utilizar logs\n",
    "    # para isso dah pra usar o logging do proprio python https://realpython.com/python-logging/ ,\n",
    "    # https://docs.python.org/3/library/logging.html\n",
    "    \n",
    "    return df\n",
    "\n",
    "def visualize_df_data(df):    \n",
    "    print(\"preview dos dados\")\n",
    "    print(df.head(5))\n",
    "    print(\"tipo dos dados\")\n",
    "    print(df.info())\n",
    "\n",
    "def get_processed_df(df, columns_to_drop):\n",
    "    \n",
    "    df_processed = df.drop(columns_to_drop, axis=1) #drop colunas desnecessarias\n",
    "    \n",
    "    return df_processed\n",
    "\n",
    "def get_df_stats(df):\n",
    "    \n",
    "    print(\"colunas utilizadas\")\n",
    "    print(df.info())\n",
    "\n",
    "    print(\"caracteristica das variaveis\")\n",
    "    df.select_dtypes('number').describe().transpose() #caracteristica das variaveis numericas\n",
    "\n",
    "    print(\"visulizar colunas com valores faltantes\")\n",
    "    print(df.isna().sum()) #Income com valores faltantes\n",
    "    \n",
    "def get_hist_plot(df, colunm_name):\n",
    "    \n",
    "    sns.histplot(x = df[colunm_name])\n",
    "    \n",
    "#def funcao_para_fazer_encode\n",
    "\n",
    "#def funcao_normalizar_dados\n",
    "\n",
    "#def funcao_aplicar_cluster\n",
    "\n",
    "#def funcao_avaliar_usando_elbow\n",
    "\n",
    "#def funcao_avaliar_usando_silhouette"
   ]
  },
  {
   "cell_type": "code",
   "execution_count": 5,
   "metadata": {},
   "outputs": [
    {
     "name": "stdout",
     "output_type": "stream",
     "text": [
      "Data loaded successfully\n"
     ]
    }
   ],
   "source": [
    "path = 'https://github.com/knmukai/retail-customer-segmentation-analysis/blob/main/marketing_campaign.csv?raw=true'\n",
    "df = load_data(path)"
   ]
  },
  {
   "cell_type": "code",
   "execution_count": 6,
   "metadata": {},
   "outputs": [
    {
     "name": "stdout",
     "output_type": "stream",
     "text": [
      "preview dos dados\n",
      "     ID  Year_Birth   Education Marital_Status   Income  Kidhome  Teenhome  \\\n",
      "0  5524        1957  Graduation         Single  58138.0        0         0   \n",
      "1  2174        1954  Graduation         Single  46344.0        1         1   \n",
      "2  4141        1965  Graduation       Together  71613.0        0         0   \n",
      "3  6182        1984  Graduation       Together  26646.0        1         0   \n",
      "4  5324        1981         PhD        Married  58293.0        1         0   \n",
      "\n",
      "  Dt_Customer  Recency  MntWines  ...  NumWebVisitsMonth  AcceptedCmp3  \\\n",
      "0  2012-09-04       58       635  ...                  7             0   \n",
      "1  2014-03-08       38        11  ...                  5             0   \n",
      "2  2013-08-21       26       426  ...                  4             0   \n",
      "3  2014-02-10       26        11  ...                  6             0   \n",
      "4  2014-01-19       94       173  ...                  5             0   \n",
      "\n",
      "   AcceptedCmp4  AcceptedCmp5  AcceptedCmp1  AcceptedCmp2  Complain  \\\n",
      "0             0             0             0             0         0   \n",
      "1             0             0             0             0         0   \n",
      "2             0             0             0             0         0   \n",
      "3             0             0             0             0         0   \n",
      "4             0             0             0             0         0   \n",
      "\n",
      "   Z_CostContact  Z_Revenue  Response  \n",
      "0              3         11         1  \n",
      "1              3         11         0  \n",
      "2              3         11         0  \n",
      "3              3         11         0  \n",
      "4              3         11         0  \n",
      "\n",
      "[5 rows x 29 columns]\n",
      "tipo dos dados\n",
      "<class 'pandas.core.frame.DataFrame'>\n",
      "RangeIndex: 2240 entries, 0 to 2239\n",
      "Data columns (total 29 columns):\n",
      " #   Column               Non-Null Count  Dtype  \n",
      "---  ------               --------------  -----  \n",
      " 0   ID                   2240 non-null   int64  \n",
      " 1   Year_Birth           2240 non-null   int64  \n",
      " 2   Education            2240 non-null   object \n",
      " 3   Marital_Status       2240 non-null   object \n",
      " 4   Income               2216 non-null   float64\n",
      " 5   Kidhome              2240 non-null   int64  \n",
      " 6   Teenhome             2240 non-null   int64  \n",
      " 7   Dt_Customer          2240 non-null   object \n",
      " 8   Recency              2240 non-null   int64  \n",
      " 9   MntWines             2240 non-null   int64  \n",
      " 10  MntFruits            2240 non-null   int64  \n",
      " 11  MntMeatProducts      2240 non-null   int64  \n",
      " 12  MntFishProducts      2240 non-null   int64  \n",
      " 13  MntSweetProducts     2240 non-null   int64  \n",
      " 14  MntGoldProds         2240 non-null   int64  \n",
      " 15  NumDealsPurchases    2240 non-null   int64  \n",
      " 16  NumWebPurchases      2240 non-null   int64  \n",
      " 17  NumCatalogPurchases  2240 non-null   int64  \n",
      " 18  NumStorePurchases    2240 non-null   int64  \n",
      " 19  NumWebVisitsMonth    2240 non-null   int64  \n",
      " 20  AcceptedCmp3         2240 non-null   int64  \n",
      " 21  AcceptedCmp4         2240 non-null   int64  \n",
      " 22  AcceptedCmp5         2240 non-null   int64  \n",
      " 23  AcceptedCmp1         2240 non-null   int64  \n",
      " 24  AcceptedCmp2         2240 non-null   int64  \n",
      " 25  Complain             2240 non-null   int64  \n",
      " 26  Z_CostContact        2240 non-null   int64  \n",
      " 27  Z_Revenue            2240 non-null   int64  \n",
      " 28  Response             2240 non-null   int64  \n",
      "dtypes: float64(1), int64(25), object(3)\n",
      "memory usage: 507.6+ KB\n",
      "None\n"
     ]
    }
   ],
   "source": [
    "visualize_df_data(df)"
   ]
  },
  {
   "cell_type": "code",
   "execution_count": 7,
   "metadata": {},
   "outputs": [],
   "source": [
    "columns_to_drop = ['ID', 'Dt_Customer', 'Recency', 'Complain', 'AcceptedCmp3', 'AcceptedCmp4', 'AcceptedCmp5', \n",
    "'AcceptedCmp1', 'AcceptedCmp2', 'Response', 'Z_CostContact', 'NumDealsPurchases','NumWebPurchases', 'Z_Revenue',\n",
    "'NumCatalogPurchases', 'NumStorePurchases', 'NumWebVisitsMonth']\n",
    "\n",
    "df_processed = get_processed_df(df, columns_to_drop)"
   ]
  },
  {
   "cell_type": "code",
   "execution_count": 8,
   "metadata": {},
   "outputs": [
    {
     "name": "stdout",
     "output_type": "stream",
     "text": [
      "colunas utilizadas\n",
      "<class 'pandas.core.frame.DataFrame'>\n",
      "RangeIndex: 2240 entries, 0 to 2239\n",
      "Data columns (total 12 columns):\n",
      " #   Column            Non-Null Count  Dtype  \n",
      "---  ------            --------------  -----  \n",
      " 0   Year_Birth        2240 non-null   int64  \n",
      " 1   Education         2240 non-null   object \n",
      " 2   Marital_Status    2240 non-null   object \n",
      " 3   Income            2216 non-null   float64\n",
      " 4   Kidhome           2240 non-null   int64  \n",
      " 5   Teenhome          2240 non-null   int64  \n",
      " 6   MntWines          2240 non-null   int64  \n",
      " 7   MntFruits         2240 non-null   int64  \n",
      " 8   MntMeatProducts   2240 non-null   int64  \n",
      " 9   MntFishProducts   2240 non-null   int64  \n",
      " 10  MntSweetProducts  2240 non-null   int64  \n",
      " 11  MntGoldProds      2240 non-null   int64  \n",
      "dtypes: float64(1), int64(9), object(2)\n",
      "memory usage: 210.1+ KB\n",
      "None\n",
      "caracteristica das variaveis\n",
      "visulizar colunas com valores faltantes\n",
      "Year_Birth           0\n",
      "Education            0\n",
      "Marital_Status       0\n",
      "Income              24\n",
      "Kidhome              0\n",
      "Teenhome             0\n",
      "MntWines             0\n",
      "MntFruits            0\n",
      "MntMeatProducts      0\n",
      "MntFishProducts      0\n",
      "MntSweetProducts     0\n",
      "MntGoldProds         0\n",
      "dtype: int64\n"
     ]
    }
   ],
   "source": [
    "get_df_stats(df_processed)"
   ]
  },
  {
   "cell_type": "code",
   "execution_count": 11,
   "metadata": {},
   "outputs": [
    {
     "name": "stdout",
     "output_type": "stream",
     "text": [
      "visualizar caracteristica dos clientes\n"
     ]
    },
    {
     "name": "stderr",
     "output_type": "stream",
     "text": [
      "/home/sayuriiwai/anaconda3/lib/python3.7/site-packages/ipykernel_launcher.py:3: MatplotlibDeprecationWarning: Adding an axes using the same arguments as a previous axes currently reuses the earlier instance.  In a future version, a new instance will always be created and returned.  Meanwhile, this warning can be suppressed, and the future behavior ensured, by passing a unique label to each axes instance.\n",
      "  This is separate from the ipykernel package so we can avoid doing imports until\n"
     ]
    },
    {
     "ename": "AttributeError",
     "evalue": "module 'seaborn' has no attribute 'histplot'",
     "output_type": "error",
     "traceback": [
      "\u001b[0;31m---------------------------------------------------------------------------\u001b[0m",
      "\u001b[0;31mAttributeError\u001b[0m                            Traceback (most recent call last)",
      "\u001b[0;32m<ipython-input-11-029e57888cff>\u001b[0m in \u001b[0;36m<module>\u001b[0;34m\u001b[0m\n\u001b[1;32m      2\u001b[0m \u001b[0msns\u001b[0m\u001b[0;34m.\u001b[0m\u001b[0mset\u001b[0m\u001b[0;34m(\u001b[0m\u001b[0mfont_scale\u001b[0m\u001b[0;34m=\u001b[0m\u001b[0;36m0.6\u001b[0m\u001b[0;34m)\u001b[0m \u001b[0;31m#diminuir tamanho da fonte\u001b[0m\u001b[0;34m\u001b[0m\u001b[0;34m\u001b[0m\u001b[0m\n\u001b[1;32m      3\u001b[0m \u001b[0mplt\u001b[0m\u001b[0;34m.\u001b[0m\u001b[0msubplot\u001b[0m\u001b[0;34m(\u001b[0m\u001b[0;36m3\u001b[0m\u001b[0;34m,\u001b[0m \u001b[0;36m2\u001b[0m\u001b[0;34m,\u001b[0m \u001b[0;36m1\u001b[0m\u001b[0;34m)\u001b[0m\u001b[0;34m\u001b[0m\u001b[0;34m\u001b[0m\u001b[0m\n\u001b[0;32m----> 4\u001b[0;31m \u001b[0mget_hist_plot\u001b[0m\u001b[0;34m(\u001b[0m\u001b[0mdf_processed\u001b[0m\u001b[0;34m,\u001b[0m \u001b[0;34m\"Year_Birth\"\u001b[0m\u001b[0;34m)\u001b[0m\u001b[0;34m\u001b[0m\u001b[0;34m\u001b[0m\u001b[0m\n\u001b[0m\u001b[1;32m      5\u001b[0m \u001b[0mplt\u001b[0m\u001b[0;34m.\u001b[0m\u001b[0msubplot\u001b[0m\u001b[0;34m(\u001b[0m\u001b[0;36m3\u001b[0m\u001b[0;34m,\u001b[0m \u001b[0;36m2\u001b[0m\u001b[0;34m,\u001b[0m \u001b[0;36m2\u001b[0m\u001b[0;34m)\u001b[0m\u001b[0;34m\u001b[0m\u001b[0;34m\u001b[0m\u001b[0m\n\u001b[1;32m      6\u001b[0m \u001b[0msns\u001b[0m\u001b[0;34m.\u001b[0m\u001b[0mhistplot\u001b[0m\u001b[0;34m(\u001b[0m\u001b[0mx\u001b[0m \u001b[0;34m=\u001b[0m \u001b[0mdf_processed\u001b[0m\u001b[0;34m[\u001b[0m\u001b[0;34m\"Education\"\u001b[0m\u001b[0;34m]\u001b[0m\u001b[0;34m)\u001b[0m\u001b[0;34m\u001b[0m\u001b[0;34m\u001b[0m\u001b[0m\n",
      "\u001b[0;32m<ipython-input-4-380b2de8b979>\u001b[0m in \u001b[0;36mget_hist_plot\u001b[0;34m(df, colunm_name)\u001b[0m\n\u001b[1;32m     43\u001b[0m \u001b[0;32mdef\u001b[0m \u001b[0mget_hist_plot\u001b[0m\u001b[0;34m(\u001b[0m\u001b[0mdf\u001b[0m\u001b[0;34m,\u001b[0m \u001b[0mcolunm_name\u001b[0m\u001b[0;34m)\u001b[0m\u001b[0;34m:\u001b[0m\u001b[0;34m\u001b[0m\u001b[0;34m\u001b[0m\u001b[0m\n\u001b[1;32m     44\u001b[0m \u001b[0;34m\u001b[0m\u001b[0m\n\u001b[0;32m---> 45\u001b[0;31m     \u001b[0msns\u001b[0m\u001b[0;34m.\u001b[0m\u001b[0mhistplot\u001b[0m\u001b[0;34m(\u001b[0m\u001b[0mx\u001b[0m \u001b[0;34m=\u001b[0m \u001b[0mdf\u001b[0m\u001b[0;34m[\u001b[0m\u001b[0mcolunm_name\u001b[0m\u001b[0;34m]\u001b[0m\u001b[0;34m)\u001b[0m\u001b[0;34m\u001b[0m\u001b[0;34m\u001b[0m\u001b[0m\n\u001b[0m\u001b[1;32m     46\u001b[0m \u001b[0;34m\u001b[0m\u001b[0m\n\u001b[1;32m     47\u001b[0m \u001b[0;31m#def funcao_para_fazer_encode\u001b[0m\u001b[0;34m\u001b[0m\u001b[0;34m\u001b[0m\u001b[0;34m\u001b[0m\u001b[0m\n",
      "\u001b[0;31mAttributeError\u001b[0m: module 'seaborn' has no attribute 'histplot'"
     ]
    }
   ],
   "source": [
    "# deu erro quando tentei executar essa celula aqui mas deu pra entender um pouco da logica?\n",
    "print(\"visualizar caracteristica dos clientes\")\n",
    "sns.set(font_scale=0.6) #diminuir tamanho da fonte\n",
    "plt.subplot(3, 2, 1)\n",
    "get_hist_plot(df_processed, \"Year_Birth\")\n",
    "plt.subplot(3, 2, 2)\n",
    "sns.histplot(x = df_processed[\"Education\"])\n",
    "plt.subplot(3, 2, 3)\n",
    "sns.histplot(x = df_processed[\"Marital_Status\"])\n",
    "plt.subplot(3, 2, 4)\n",
    "sns.histplot(x = df_processed[\"Income\"])\n",
    "plt.subplot(3, 2, 5)\n",
    "sns.histplot(x = df_processed[\"Kidhome\"])\n",
    "plt.subplot(3, 2, 6)\n",
    "sns.histplot(x = df_processed[\"Teenhome\"])\n",
    "plt.show()"
   ]
  },
  {
   "cell_type": "code",
   "execution_count": 12,
   "metadata": {},
   "outputs": [
    {
     "name": "stdout",
     "output_type": "stream",
     "text": [
      "substituir status marital Alone, Absurd e YOLO por Single e Widow por Divorced\n",
      "Married     864\n",
      "Together    580\n",
      "Single      480\n",
      "Divorced    232\n",
      "Widow        77\n",
      "Alone         3\n",
      "Absurd        2\n",
      "YOLO          2\n",
      "Name: Marital_Status, dtype: int64\n",
      "Married     864\n",
      "Together    580\n",
      "Single      487\n",
      "Divorced    309\n",
      "Name: Marital_Status, dtype: int64\n",
      "sinalizar apenas se possui ou não filhos\n",
      "0    1813\n",
      "1     427\n",
      "Name: Childhome, dtype: int64\n",
      "media da renda por nivel de educacao\n",
      "Education\n",
      "2n Cycle      47633.190000\n",
      "Basic         20306.259259\n",
      "Graduation    52720.373656\n",
      "Master        52917.534247\n",
      "PhD           56145.313929\n",
      "Name: Income, dtype: float64\n",
      "valores faltantes de renda substituidos pela media por nivel de educacao\n",
      "Year_Birth           0\n",
      "Education            0\n",
      "Marital_Status       0\n",
      "Income              24\n",
      "MntWines             0\n",
      "MntFruits            0\n",
      "MntMeatProducts      0\n",
      "MntFishProducts      0\n",
      "MntSweetProducts     0\n",
      "MntGoldProds         0\n",
      "Childhome            0\n",
      "dtype: int64\n"
     ]
    }
   ],
   "source": [
    "#############################################################################################\n",
    "# Avaliar se esse bloco de codigo poderia estar dentro da funcao get_processed_df\n",
    "print(\"substituir status marital Alone, Absurd e YOLO por Single e Widow por Divorced\")\n",
    "print(df_processed['Marital_Status'].value_counts())\n",
    "df_processed['Marital_Status'].replace(['Alone','Absurd','YOLO'], 'Single', inplace=True)\n",
    "df_processed['Marital_Status'].replace(['Widow'], 'Divorced', inplace=True)\n",
    "print(df_processed['Marital_Status'].value_counts())\n",
    "\n",
    "print('sinalizar apenas se possui ou não filhos')\n",
    "df_processed['Childhome'] = np.where((df_processed['Kidhome'] == 0) | (df_processed['Teenhome'] == 0), 0, 1)\n",
    "df_processed = df_processed.drop(['Kidhome', 'Teenhome'], axis=1) #drop colunas de filhos\n",
    "print(df_processed['Childhome'].value_counts())\n",
    "\n",
    "print(\"media da renda por nivel de educacao\")\n",
    "print(df.groupby(['Education'])['Income'].mean())\n",
    "df['Income'].fillna(df.groupby('Education')['Income'].transform('mean'), inplace = True) #substituir valores na pela media por Education\n",
    "print(\"valores faltantes de renda substituidos pela media por nivel de educacao\")\n",
    "print(df_processed.isna().sum()) #Income com valores faltantes\n"
   ]
  },
  {
   "cell_type": "code",
   "execution_count": null,
   "metadata": {},
   "outputs": [],
   "source": [
    "# remoção de outliers\n",
    "print(\"qtd de registros antes da remocao de outliers:\"+str(len(df_processed)))\n",
    "df_processed = df_processed[(df_processed['Year_Birth']>=1940) & (df_processed['Income']<=100000)].reset_index()\n",
    "print(\"qtd de registros antes da remocao de outliers:\"+str(len(df_processed)))\n",
    "#############################################################################################"
   ]
  },
  {
   "cell_type": "code",
   "execution_count": 13,
   "metadata": {},
   "outputs": [
    {
     "ename": "AttributeError",
     "evalue": "module 'seaborn' has no attribute 'histplot'",
     "output_type": "error",
     "traceback": [
      "\u001b[0;31m---------------------------------------------------------------------------\u001b[0m",
      "\u001b[0;31mAttributeError\u001b[0m                            Traceback (most recent call last)",
      "\u001b[0;32m<ipython-input-13-c6d4b3972732>\u001b[0m in \u001b[0;36m<module>\u001b[0;34m\u001b[0m\n\u001b[1;32m      1\u001b[0m \u001b[0msns\u001b[0m\u001b[0;34m.\u001b[0m\u001b[0mset\u001b[0m\u001b[0;34m(\u001b[0m\u001b[0mfont_scale\u001b[0m\u001b[0;34m=\u001b[0m\u001b[0;36m0.6\u001b[0m\u001b[0;34m)\u001b[0m \u001b[0;31m#diminuir tamanho da fonte\u001b[0m\u001b[0;34m\u001b[0m\u001b[0;34m\u001b[0m\u001b[0m\n\u001b[1;32m      2\u001b[0m \u001b[0mplt\u001b[0m\u001b[0;34m.\u001b[0m\u001b[0msubplot\u001b[0m\u001b[0;34m(\u001b[0m\u001b[0;36m2\u001b[0m\u001b[0;34m,\u001b[0m \u001b[0;36m2\u001b[0m\u001b[0;34m,\u001b[0m \u001b[0;36m1\u001b[0m\u001b[0;34m)\u001b[0m\u001b[0;34m\u001b[0m\u001b[0;34m\u001b[0m\u001b[0m\n\u001b[0;32m----> 3\u001b[0;31m \u001b[0msns\u001b[0m\u001b[0;34m.\u001b[0m\u001b[0mhistplot\u001b[0m\u001b[0;34m(\u001b[0m\u001b[0mx\u001b[0m \u001b[0;34m=\u001b[0m \u001b[0mdf_processed\u001b[0m\u001b[0;34m[\u001b[0m\u001b[0;34m\"Year_Birth\"\u001b[0m\u001b[0;34m]\u001b[0m\u001b[0;34m)\u001b[0m\u001b[0;34m\u001b[0m\u001b[0;34m\u001b[0m\u001b[0m\n\u001b[0m\u001b[1;32m      4\u001b[0m \u001b[0mplt\u001b[0m\u001b[0;34m.\u001b[0m\u001b[0msubplot\u001b[0m\u001b[0;34m(\u001b[0m\u001b[0;36m2\u001b[0m\u001b[0;34m,\u001b[0m \u001b[0;36m2\u001b[0m\u001b[0;34m,\u001b[0m \u001b[0;36m2\u001b[0m\u001b[0;34m)\u001b[0m\u001b[0;34m\u001b[0m\u001b[0;34m\u001b[0m\u001b[0m\n\u001b[1;32m      5\u001b[0m \u001b[0msns\u001b[0m\u001b[0;34m.\u001b[0m\u001b[0mhistplot\u001b[0m\u001b[0;34m(\u001b[0m\u001b[0mx\u001b[0m \u001b[0;34m=\u001b[0m \u001b[0mdf_processed\u001b[0m\u001b[0;34m[\u001b[0m\u001b[0;34m\"Income\"\u001b[0m\u001b[0;34m]\u001b[0m\u001b[0;34m)\u001b[0m\u001b[0;34m\u001b[0m\u001b[0;34m\u001b[0m\u001b[0m\n",
      "\u001b[0;31mAttributeError\u001b[0m: module 'seaborn' has no attribute 'histplot'"
     ]
    }
   ],
   "source": [
    "sns.set(font_scale=0.6) #diminuir tamanho da fonte\n",
    "plt.subplot(2, 2, 1)\n",
    "sns.histplot(x = df_processed[\"Year_Birth\"])\n",
    "plt.subplot(2, 2, 2)\n",
    "sns.histplot(x = df_processed[\"Income\"])\n",
    "plt.show()"
   ]
  },
  {
   "cell_type": "code",
   "execution_count": null,
   "metadata": {},
   "outputs": [],
   "source": [
    "\n",
    "print(\"codificacao das colunas categoricas\")\n",
    "df_encoded = df_processed.copy()\n",
    "le = LabelEncoder() \n",
    "df_encoded['Education'] = le.fit_transform(df_encoded['Education'])\n",
    "df_encoded['Marital_Status'] = le.fit_transform(df_encoded['Marital_Status'])\n",
    "print(df_encoded.head(5))\n",
    "\n",
    "print(\"normatização\")\n",
    "min_max_scaler = MinMaxScaler()\n",
    "df_encoded[df_encoded.columns] = min_max_scaler.fit_transform(df_encoded)\n",
    "print(df_encoded.head(5))\n",
    "\n",
    "print(\"definição do numero de clusters\")\n",
    "print(\"elbow method\")\n",
    "\n",
    "\n",
    "kmeans = KMeans(random_state=42)\n",
    "elb_visualizer = KElbowVisualizer(kmeans, k=(1,15))\n",
    "elb_visualizer.fit(df_encoded)    \n",
    "elb_visualizer.show() \n",
    "\n",
    "print(\"silhouette method\")\n",
    "silhouette_coefficients = []\n",
    "\n",
    "for k in range(2, 15):\n",
    "    kmeans = KMeans(n_clusters=k, init=\"k-means++\")\n",
    "    kmeans.fit(df_encoded)\n",
    "    score = silhouette_score(df_encoded, kmeans.labels_)\n",
    "    silhouette_coefficients.append(score)\n",
    "plt.plot(range(2, 15), silhouette_coefficients)\n",
    "plt.xticks(range(2, 15))\n",
    "plt.xlabel(\"Number of Clusters\")\n",
    "plt.ylabel(\"Silhouette Coefficient\")\n",
    "plt.show()\n",
    "\n",
    "kmeans = KMeans(n_clusters = 3, random_state=42)\n",
    "sil_visualizer = SilhouetteVisualizer(kmeans, colors='yellowbrick')\n",
    "sil_visualizer.fit(df_encoded)    \n",
    "sil_visualizer.show() \n",
    "print(\"pelo elbow k=4, pelo silhouette k=2. Definido k=3\")\n",
    "\n",
    "print(\"k-means clustering\")\n",
    "kmeans = KMeans(n_clusters=3, init=\"k-means++\")\n",
    "kmeans.fit(df_encoded)\n",
    "df_processed['cluster']=kmeans.labels_\n",
    "print(df_processed.head(5))\n",
    "\n",
    "x=df_encoded.iloc[:,2]\n",
    "y=df_encoded.iloc[:,3]\n",
    "z=df_encoded.iloc[:,4]\n",
    "fig = plt.figure(figsize=(20,10))\n",
    "plot3d = fig.add_subplot(111, projection='3d')\n",
    "plot3d.scatter(x,y,z, c= kmeans.labels_)\n",
    "plt.show()"
   ]
  }
 ],
 "metadata": {
  "kernelspec": {
   "display_name": "Python 3.7.6 ('base': conda)",
   "language": "python",
   "name": "python3"
  },
  "language_info": {
   "codemirror_mode": {
    "name": "ipython",
    "version": 3
   },
   "file_extension": ".py",
   "mimetype": "text/x-python",
   "name": "python",
   "nbconvert_exporter": "python",
   "pygments_lexer": "ipython3",
   "version": "3.7.6"
  },
  "orig_nbformat": 4,
  "vscode": {
   "interpreter": {
    "hash": "d0ba47c3054e61c08946b2007bc26e3660acc49ab643faf8694ff21f2d948431"
   }
  }
 },
 "nbformat": 4,
 "nbformat_minor": 2
}
