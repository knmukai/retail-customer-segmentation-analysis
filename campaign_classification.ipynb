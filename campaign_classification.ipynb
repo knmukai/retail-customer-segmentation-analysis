{
 "cells": [
  {
   "cell_type": "markdown",
   "metadata": {},
   "source": [
    "#### Prever se o cliente ira aceitar a ultima campanha de marketing"
   ]
  },
  {
   "cell_type": "code",
   "execution_count": 1,
   "metadata": {},
   "outputs": [],
   "source": [
    "# import libraries\n",
    "import pandas as pd\n",
    "import seaborn as sns\n",
    "import matplotlib.pyplot as plt\n",
    "import numpy as np\n",
    "from sklearn.model_selection import train_test_split\n",
    "from sklearn.tree import DecisionTreeClassifier\n",
    "from sklearn import tree\n",
    "from sklearn.preprocessing import MinMaxScaler\n",
    "from datetime import date\n",
    "from sklearn.metrics import accuracy_score\n",
    "from sklearn.metrics import confusion_matrix\n",
    "from sklearn.neighbors import KNeighborsClassifier"
   ]
  },
  {
   "cell_type": "code",
   "execution_count": 2,
   "metadata": {},
   "outputs": [],
   "source": [
    "# Define functions \n",
    "\n",
    "def load_data(path):\n",
    "    '''\n",
    "    carregar dados\n",
    "    '''\n",
    "    \n",
    "    df = pd.read_csv(path, sep = ';')\n",
    "    print('Data loaded successfully')\n",
    "    \n",
    "    return df\n",
    "\n",
    "def visualize_df_data(df):   \n",
    "    '''\n",
    "    visualizar tipo de dados\n",
    "    '''\n",
    "\n",
    "    print(\"preview dos dados\")\n",
    "    print(df.head(5))\n",
    "    print(\"tipo dos dados\")\n",
    "    print(df.info())\n",
    "\n",
    "def get_processed_df(df, columns_to_drop):\n",
    "    '''\n",
    "    remover colunas não utilizadas na analise\n",
    "    '''\n",
    "    \n",
    "    df_processed = df.drop(columns_to_drop, axis=1) #drop colunas desnecessarias\n",
    "    \n",
    "    return df_processed\n",
    "\n",
    "def get_df_stats(df):\n",
    "    '''\n",
    "    monstrar caracteristicas dos dados\n",
    "    '''\n",
    "\n",
    "    print(\"colunas utilizadas\")\n",
    "    print(df.info())\n",
    "\n",
    "    print(\"caracteristica das variaveis\")\n",
    "    df.select_dtypes('number').describe().transpose() #caracteristica das variaveis numericas\n",
    "\n",
    "    print(\"visulizar colunas com valores faltantes\")\n",
    "    print(df.isna().sum()) #Income com valores faltantes\n",
    "    \n",
    "def get_hist_plot(df, colunm_name):\n",
    "    '''\n",
    "    plotar histograma\n",
    "    '''\n",
    "    sns.set(font_scale=0.6)\n",
    "    for i in range(len(colunm_name)):\n",
    "        plt.subplot(int(np.ceil(len(colunm_name)/2)), 2, i+1)\n",
    "        sns.histplot(x = df[colunm_name[i]])\n",
    "    plt.show()\n",
    "\n",
    "def get_scale_df(df):\n",
    "    '''\n",
    "    normatização das colunas\n",
    "    '''\n",
    "    min_max_scaler = MinMaxScaler()\n",
    "    df[df.columns] = min_max_scaler.fit_transform(df)\n",
    "    print(df.head(5))\n",
    "        \n",
    "    return df\n",
    "\n",
    "def get_teste_train(df, col, split_test_size):\n",
    "    '''\n",
    "    separar dataset de teste e treino\n",
    "    '''\n",
    "    features = df.columns.drop(col)\n",
    "    target = [col]\n",
    "\n",
    "    X = df[features].values\n",
    "    y = df[target].values\n",
    "\n",
    "    X_train, X_test, y_train, y_test = train_test_split(X, y, test_size = split_test_size, random_state=8)\n",
    "\n",
    "    print('Variáveis explicativas de treino:', X_train.shape)\n",
    "    print('Variáveis explicativas de teste:', X_test.shape)\n",
    "    print('Variável alvo de treino:', y_train.shape)\n",
    "    print('Variável alvo de teste:', y_test.shape)\n",
    "\n",
    "    fscaler = MinMaxScaler()\n",
    "    X_train = fscaler.fit_transform(X_train)\n",
    "    X_test = fscaler.transform(X_test)\n",
    "    return X_train, X_test, y_train, y_test\n",
    "\n",
    "def get_model(model, X_train, y_train, X_test, y_test):\n",
    "    '''\n",
    "    usar modelo de classificação e calcular metricas\n",
    "    '''\n",
    "    model.fit(X_train, y_train)\n",
    "\n",
    "    predictions = model.predict(X_test)\n",
    "\n",
    "    print('acc: ', accuracy_score(y_test, predictions))\n",
    "\n",
    "    matrix = confusion_matrix(y_test, predictions)\n",
    "    sns.heatmap(matrix, annot=True, fmt='', cbar = False)\n",
    "    plt.xlabel(\"Predicted Result\")\n",
    "    plt.ylabel(\"Actual Result\")\n",
    "    plt.show()\n",
    "\n",
    "    #tree.plot_tree(clf)\n",
    "    #plt.show()"
   ]
  },
  {
   "cell_type": "markdown",
   "metadata": {},
   "source": [
    "#### Carregamento de dados"
   ]
  },
  {
   "cell_type": "code",
   "execution_count": 3,
   "metadata": {},
   "outputs": [
    {
     "name": "stdout",
     "output_type": "stream",
     "text": [
      "Data loaded successfully\n"
     ]
    }
   ],
   "source": [
    "path = 'https://github.com/knmukai/retail-customer-segmentation-analysis/blob/main/marketing_campaign.csv?raw=true'\n",
    "df = load_data(path)"
   ]
  },
  {
   "cell_type": "code",
   "execution_count": 4,
   "metadata": {},
   "outputs": [
    {
     "name": "stdout",
     "output_type": "stream",
     "text": [
      "preview dos dados\n",
      "     ID  Year_Birth   Education Marital_Status   Income  Kidhome  Teenhome  \\\n",
      "0  5524        1957  Graduation         Single  58138.0        0         0   \n",
      "1  2174        1954  Graduation         Single  46344.0        1         1   \n",
      "2  4141        1965  Graduation       Together  71613.0        0         0   \n",
      "3  6182        1984  Graduation       Together  26646.0        1         0   \n",
      "4  5324        1981         PhD        Married  58293.0        1         0   \n",
      "\n",
      "  Dt_Customer  Recency  MntWines  ...  NumWebVisitsMonth  AcceptedCmp3  \\\n",
      "0  2012-09-04       58       635  ...                  7             0   \n",
      "1  2014-03-08       38        11  ...                  5             0   \n",
      "2  2013-08-21       26       426  ...                  4             0   \n",
      "3  2014-02-10       26        11  ...                  6             0   \n",
      "4  2014-01-19       94       173  ...                  5             0   \n",
      "\n",
      "   AcceptedCmp4  AcceptedCmp5  AcceptedCmp1  AcceptedCmp2  Complain  \\\n",
      "0             0             0             0             0         0   \n",
      "1             0             0             0             0         0   \n",
      "2             0             0             0             0         0   \n",
      "3             0             0             0             0         0   \n",
      "4             0             0             0             0         0   \n",
      "\n",
      "   Z_CostContact  Z_Revenue  Response  \n",
      "0              3         11         1  \n",
      "1              3         11         0  \n",
      "2              3         11         0  \n",
      "3              3         11         0  \n",
      "4              3         11         0  \n",
      "\n",
      "[5 rows x 29 columns]\n",
      "tipo dos dados\n",
      "<class 'pandas.core.frame.DataFrame'>\n",
      "RangeIndex: 2240 entries, 0 to 2239\n",
      "Data columns (total 29 columns):\n",
      " #   Column               Non-Null Count  Dtype  \n",
      "---  ------               --------------  -----  \n",
      " 0   ID                   2240 non-null   int64  \n",
      " 1   Year_Birth           2240 non-null   int64  \n",
      " 2   Education            2240 non-null   object \n",
      " 3   Marital_Status       2240 non-null   object \n",
      " 4   Income               2216 non-null   float64\n",
      " 5   Kidhome              2240 non-null   int64  \n",
      " 6   Teenhome             2240 non-null   int64  \n",
      " 7   Dt_Customer          2240 non-null   object \n",
      " 8   Recency              2240 non-null   int64  \n",
      " 9   MntWines             2240 non-null   int64  \n",
      " 10  MntFruits            2240 non-null   int64  \n",
      " 11  MntMeatProducts      2240 non-null   int64  \n",
      " 12  MntFishProducts      2240 non-null   int64  \n",
      " 13  MntSweetProducts     2240 non-null   int64  \n",
      " 14  MntGoldProds         2240 non-null   int64  \n",
      " 15  NumDealsPurchases    2240 non-null   int64  \n",
      " 16  NumWebPurchases      2240 non-null   int64  \n",
      " 17  NumCatalogPurchases  2240 non-null   int64  \n",
      " 18  NumStorePurchases    2240 non-null   int64  \n",
      " 19  NumWebVisitsMonth    2240 non-null   int64  \n",
      " 20  AcceptedCmp3         2240 non-null   int64  \n",
      " 21  AcceptedCmp4         2240 non-null   int64  \n",
      " 22  AcceptedCmp5         2240 non-null   int64  \n",
      " 23  AcceptedCmp1         2240 non-null   int64  \n",
      " 24  AcceptedCmp2         2240 non-null   int64  \n",
      " 25  Complain             2240 non-null   int64  \n",
      " 26  Z_CostContact        2240 non-null   int64  \n",
      " 27  Z_Revenue            2240 non-null   int64  \n",
      " 28  Response             2240 non-null   int64  \n",
      "dtypes: float64(1), int64(25), object(3)\n",
      "memory usage: 507.6+ KB\n",
      "None\n"
     ]
    }
   ],
   "source": [
    "visualize_df_data(df)"
   ]
  },
  {
   "cell_type": "markdown",
   "metadata": {},
   "source": [
    "#### Pré-processamento dos dados"
   ]
  },
  {
   "cell_type": "code",
   "execution_count": 5,
   "metadata": {},
   "outputs": [],
   "source": [
    "# remover colunas não utilizadas\n",
    "columns_to_drop = ['ID', 'Dt_Customer', 'Recency', 'Complain', 'AcceptedCmp3', 'AcceptedCmp4', 'AcceptedCmp5', \n",
    "'AcceptedCmp1', 'AcceptedCmp2', 'Z_CostContact', 'NumDealsPurchases','NumWebPurchases', 'Z_Revenue', 'MntWines', 'MntFruits', 'MntMeatProducts',\n",
    "'MntFishProducts', 'MntSweetProducts', 'MntGoldProds', 'NumCatalogPurchases', 'NumStorePurchases', 'NumWebVisitsMonth']\n",
    "\n",
    "df_processed = get_processed_df(df, columns_to_drop)"
   ]
  },
  {
   "cell_type": "code",
   "execution_count": 6,
   "metadata": {},
   "outputs": [
    {
     "name": "stdout",
     "output_type": "stream",
     "text": [
      "colunas utilizadas\n",
      "<class 'pandas.core.frame.DataFrame'>\n",
      "RangeIndex: 2240 entries, 0 to 2239\n",
      "Data columns (total 7 columns):\n",
      " #   Column          Non-Null Count  Dtype  \n",
      "---  ------          --------------  -----  \n",
      " 0   Year_Birth      2240 non-null   int64  \n",
      " 1   Education       2240 non-null   object \n",
      " 2   Marital_Status  2240 non-null   object \n",
      " 3   Income          2216 non-null   float64\n",
      " 4   Kidhome         2240 non-null   int64  \n",
      " 5   Teenhome        2240 non-null   int64  \n",
      " 6   Response        2240 non-null   int64  \n",
      "dtypes: float64(1), int64(4), object(2)\n",
      "memory usage: 122.6+ KB\n",
      "None\n",
      "caracteristica das variaveis\n",
      "visulizar colunas com valores faltantes\n",
      "Year_Birth         0\n",
      "Education          0\n",
      "Marital_Status     0\n",
      "Income            24\n",
      "Kidhome            0\n",
      "Teenhome           0\n",
      "Response           0\n",
      "dtype: int64\n"
     ]
    }
   ],
   "source": [
    "get_df_stats(df_processed)"
   ]
  },
  {
   "cell_type": "code",
   "execution_count": 7,
   "metadata": {},
   "outputs": [
    {
     "name": "stdout",
     "output_type": "stream",
     "text": [
      "substituir status marital Alone, Absurd e YOLO por Single e Widow por Divorced\n",
      "Married     864\n",
      "Together    580\n",
      "Single      487\n",
      "Divorced    309\n",
      "Name: Marital_Status, dtype: int64\n"
     ]
    }
   ],
   "source": [
    "print(\"substituir status marital Alone, Absurd e YOLO por Single e Widow por Divorced\")\n",
    "df_processed['Marital_Status'].replace(['Alone','Absurd','YOLO'], 'Single', inplace=True)\n",
    "df_processed['Marital_Status'].replace(['Widow'], 'Divorced', inplace=True)\n",
    "print(df_processed['Marital_Status'].value_counts())"
   ]
  },
  {
   "cell_type": "code",
   "execution_count": 8,
   "metadata": {},
   "outputs": [
    {
     "name": "stdout",
     "output_type": "stream",
     "text": [
      "sinalizar apenas se possui ou não filhos\n",
      "0    1813\n",
      "1     427\n",
      "Name: Childhome, dtype: int64\n"
     ]
    }
   ],
   "source": [
    "print('sinalizar apenas se possui ou não filhos')\n",
    "df_processed['Childhome'] = np.where((df_processed['Kidhome'] == 0) | (df_processed['Teenhome'] == 0), 0, 1)\n",
    "df_processed = df_processed.drop(['Kidhome', 'Teenhome'], axis=1) #drop colunas de filhos\n",
    "print(df_processed['Childhome'].value_counts())"
   ]
  },
  {
   "cell_type": "code",
   "execution_count": 9,
   "metadata": {},
   "outputs": [],
   "source": [
    "# media da renda por nivel de educacao\n",
    "df_processed['Income'].fillna(df_processed.groupby('Education')['Income'].transform('mean'), inplace = True) #substituir valores na pela media por Education"
   ]
  },
  {
   "cell_type": "code",
   "execution_count": 10,
   "metadata": {},
   "outputs": [
    {
     "name": "stdout",
     "output_type": "stream",
     "text": [
      "qtd de registros antes da remocao de outliers:2240\n",
      "qtd de registros antes da remocao de outliers:2224\n"
     ]
    }
   ],
   "source": [
    "# remoção de outliers\n",
    "print(\"qtd de registros antes da remocao de outliers:\"+str(len(df_processed)))\n",
    "df_processed = df_processed[(df_processed['Year_Birth']>=1940) & (df_processed['Income']<=100000)].reset_index()\n",
    "print(\"qtd de registros antes da remocao de outliers:\"+str(len(df_processed)))"
   ]
  },
  {
   "cell_type": "code",
   "execution_count": 11,
   "metadata": {},
   "outputs": [],
   "source": [
    "# tranformar ano de nascimento em idade\n",
    "df_processed.insert(6,'age', date.today().year-df_processed['Year_Birth'])\n",
    "df_processed = df_processed.drop(['Year_Birth'], axis=1) \n",
    "df_processed = df_processed.drop(['index'], axis=1)  #remove index"
   ]
  },
  {
   "cell_type": "code",
   "execution_count": 12,
   "metadata": {},
   "outputs": [
    {
     "name": "stdout",
     "output_type": "stream",
     "text": [
      "engajamento na ultima campanha\n",
      "0    1894\n",
      "1     330\n",
      "Name: Response, dtype: int64\n"
     ]
    }
   ],
   "source": [
    "print('engajamento na ultima campanha')\n",
    "print(df_processed['Response'].value_counts())"
   ]
  },
  {
   "cell_type": "code",
   "execution_count": 13,
   "metadata": {},
   "outputs": [
    {
     "name": "stdout",
     "output_type": "stream",
     "text": [
      "tranformar variaveis categoricas em dummies\n",
      "    Income  Response  age  Childhome  Education_Basic  Education_Graduation  \\\n",
      "0  58138.0         1   65          0                0                     1   \n",
      "1  46344.0         0   68          1                0                     1   \n",
      "2  71613.0         0   57          0                0                     1   \n",
      "3  26646.0         0   38          0                0                     1   \n",
      "4  58293.0         0   41          0                0                     0   \n",
      "\n",
      "   Education_Master  Education_PhD  Marital_Status_Married  \\\n",
      "0                 0              0                       0   \n",
      "1                 0              0                       0   \n",
      "2                 0              0                       0   \n",
      "3                 0              0                       0   \n",
      "4                 0              1                       1   \n",
      "\n",
      "   Marital_Status_Single  Marital_Status_Together  \n",
      "0                      1                        0  \n",
      "1                      1                        0  \n",
      "2                      0                        1  \n",
      "3                      0                        1  \n",
      "4                      0                        0  \n"
     ]
    }
   ],
   "source": [
    "print('tranformar variaveis categoricas em dummies')\n",
    "df_dummies = pd.get_dummies(data=df_processed, drop_first=True)\n",
    "print(df_dummies.head(5))"
   ]
  },
  {
   "cell_type": "markdown",
   "metadata": {},
   "source": [
    "#### Treino e avaliação dos modelos"
   ]
  },
  {
   "cell_type": "code",
   "execution_count": 14,
   "metadata": {},
   "outputs": [
    {
     "name": "stdout",
     "output_type": "stream",
     "text": [
      "Variáveis explicativas de treino: (1556, 10)\n",
      "Variáveis explicativas de teste: (668, 10)\n",
      "Variável alvo de treino: (1556, 1)\n",
      "Variável alvo de teste: (668, 1)\n"
     ]
    }
   ],
   "source": [
    "target_col = 'Response'\n",
    "test_size = 0.3\n",
    "\n",
    "X_train, X_test, y_train, y_test = get_teste_train(df_dummies, target_col, test_size)"
   ]
  },
  {
   "cell_type": "code",
   "execution_count": 15,
   "metadata": {},
   "outputs": [
    {
     "name": "stdout",
     "output_type": "stream",
     "text": [
      "decision tree classifier\n",
      "acc:  0.7934131736526946\n"
     ]
    },
    {
     "data": {
      "image/png": "[encoded data removed]",
      "text/plain": [
       "<Figure size 640x480 with 1 Axes>"
      ]
     },
     "metadata": {},
     "output_type": "display_data"
    }
   ],
   "source": [
    "print('decision tree classifier')\n",
    "dtc = DecisionTreeClassifier(random_state=0)\n",
    "\n",
    "get_model(dtc, X_train, y_train, X_test, y_test)"
   ]
  },
  {
   "cell_type": "code",
   "execution_count": 16,
   "metadata": {},
   "outputs": [
    {
     "data": {
      "image/png": "[encoded data removed]",
      "text/plain": [
       "<Figure size 640x480 with 1 Axes>"
      ]
     },
     "metadata": {},
     "output_type": "display_data"
    },
    {
     "name": "stdout",
     "output_type": "stream",
     "text": [
      "age e income são as features mais relevantes\n"
     ]
    }
   ],
   "source": [
    "importances = dtc.feature_importances_\n",
    "sorted_idx = dtc.feature_importances_.argsort()\n",
    "\n",
    "fig, ax = plt.subplots()\n",
    "ax.barh(range(len(importances)), importances[sorted_idx])\n",
    "ax.set_yticks(range(len(importances)))\n",
    "ax.set_yticklabels(np.array(df_dummies.columns.drop('Response'))[sorted_idx])\n",
    "plt.xlabel(\"Feature Importance\")\n",
    "plt.show()\n",
    "print('age e income são as features mais relevantes')"
   ]
  },
  {
   "cell_type": "code",
   "execution_count": 17,
   "metadata": {},
   "outputs": [
    {
     "name": "stdout",
     "output_type": "stream",
     "text": [
      "Nearest Neighbors Classification\n",
      "acc:  0.8458083832335329\n"
     ]
    },
    {
     "name": "stderr",
     "output_type": "stream",
     "text": [
      "C:\\Users\\karla\\AppData\\Local\\Packages\\PythonSoftwareFoundation.Python.3.10_qbz5n2kfra8p0\\LocalCache\\local-packages\\Python310\\site-packages\\sklearn\\neighbors\\_classification.py:207: DataConversionWarning: A column-vector y was passed when a 1d array was expected. Please change the shape of y to (n_samples,), for example using ravel().\n",
      "  return self._fit(X, y)\n"
     ]
    },
    {
     "data": {
      "image/png": "[encoded data removed]",
      "text/plain": [
       "<Figure size 640x480 with 1 Axes>"
      ]
     },
     "metadata": {},
     "output_type": "display_data"
    }
   ],
   "source": [
    "print('Nearest Neighbors Classification')\n",
    "knc = KNeighborsClassifier() #default n_neighbor=5\n",
    "\n",
    "get_model(knc, X_train, y_train, X_test, y_test)"
   ]
  },
  {
   "cell_type": "code",
   "execution_count": 18,
   "metadata": {},
   "outputs": [
    {
     "name": "stdout",
     "output_type": "stream",
     "text": [
      "metodo Nearest Neighbors Classification teve melhor precisão\n"
     ]
    }
   ],
   "source": [
    "print('metodo Nearest Neighbors Classification teve melhor precisão')"
   ]
  }
 ],
 "metadata": {
  "kernelspec": {
   "display_name": "Python 3.10.8 64-bit (microsoft store)",
   "language": "python",
   "name": "python3"
  },
  "language_info": {
   "codemirror_mode": {
    "name": "ipython",
    "version": 3
   },
   "file_extension": ".py",
   "mimetype": "text/x-python",
   "name": "python",
   "nbconvert_exporter": "python",
   "pygments_lexer": "ipython3",
   "version": "3.10.8"
  },
  "orig_nbformat": 4,
  "vscode": {
   "interpreter": {
    "hash": "df37001688525a917c0913f02818451f4a1d6a887f0a23abd4665e2587b5cb59"
   }
  }
 },
 "nbformat": 4,
 "nbformat_minor": 2
}
